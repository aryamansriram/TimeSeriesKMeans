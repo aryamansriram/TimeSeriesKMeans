{
 "cells": [
  {
   "cell_type": "code",
   "execution_count": 2,
   "metadata": {},
   "outputs": [],
   "source": [
    "import pandas as pd\n",
    "import numpy as np\n",
    "import seaborn as sns\n",
    "import matplotlib.pyplot as plt"
   ]
  },
  {
   "cell_type": "markdown",
   "metadata": {},
   "source": [
    "Read the csv file using pandas library"
   ]
  },
  {
   "cell_type": "code",
   "execution_count": 3,
   "metadata": {},
   "outputs": [],
   "source": [
    "data_file = pd.read_csv(\"google-cluster-data-1.csv\")"
   ]
  },
  {
   "cell_type": "markdown",
   "metadata": {},
   "source": [
    "View the first five elements of the dataset\n"
   ]
  },
  {
   "cell_type": "code",
   "execution_count": 4,
   "metadata": {},
   "outputs": [
    {
     "data": {
      "text/html": [
       "<div>\n",
       "<table border=\"1\" class=\"dataframe\">\n",
       "  <thead>\n",
       "    <tr style=\"text-align: right;\">\n",
       "      <th></th>\n",
       "      <th>Time</th>\n",
       "      <th>ParentID</th>\n",
       "      <th>TaskID</th>\n",
       "      <th>JobType</th>\n",
       "      <th>NrmlTaskCores</th>\n",
       "      <th>NrmlTaskMem</th>\n",
       "    </tr>\n",
       "  </thead>\n",
       "  <tbody>\n",
       "    <tr>\n",
       "      <th>0</th>\n",
       "      <td>90000</td>\n",
       "      <td>757745334</td>\n",
       "      <td>1488529826</td>\n",
       "      <td>0</td>\n",
       "      <td>0.000000</td>\n",
       "      <td>0.031130</td>\n",
       "    </tr>\n",
       "    <tr>\n",
       "      <th>1</th>\n",
       "      <td>90000</td>\n",
       "      <td>975992247</td>\n",
       "      <td>1488529821</td>\n",
       "      <td>0</td>\n",
       "      <td>0.000000</td>\n",
       "      <td>0.000000</td>\n",
       "    </tr>\n",
       "    <tr>\n",
       "      <th>2</th>\n",
       "      <td>90000</td>\n",
       "      <td>1468458091</td>\n",
       "      <td>1488529832</td>\n",
       "      <td>1</td>\n",
       "      <td>0.021875</td>\n",
       "      <td>0.002353</td>\n",
       "    </tr>\n",
       "    <tr>\n",
       "      <th>3</th>\n",
       "      <td>90000</td>\n",
       "      <td>1460281235</td>\n",
       "      <td>1488529840</td>\n",
       "      <td>0</td>\n",
       "      <td>0.000000</td>\n",
       "      <td>0.000000</td>\n",
       "    </tr>\n",
       "    <tr>\n",
       "      <th>4</th>\n",
       "      <td>90000</td>\n",
       "      <td>1164728954</td>\n",
       "      <td>1488529835</td>\n",
       "      <td>0</td>\n",
       "      <td>0.003125</td>\n",
       "      <td>0.001638</td>\n",
       "    </tr>\n",
       "  </tbody>\n",
       "</table>\n",
       "</div>"
      ],
      "text/plain": [
       "    Time    ParentID      TaskID  JobType  NrmlTaskCores  NrmlTaskMem\n",
       "0  90000   757745334  1488529826        0       0.000000     0.031130\n",
       "1  90000   975992247  1488529821        0       0.000000     0.000000\n",
       "2  90000  1468458091  1488529832        1       0.021875     0.002353\n",
       "3  90000  1460281235  1488529840        0       0.000000     0.000000\n",
       "4  90000  1164728954  1488529835        0       0.003125     0.001638"
      ]
     },
     "execution_count": 4,
     "metadata": {},
     "output_type": "execute_result"
    }
   ],
   "source": [
    "data_file.head()\n"
   ]
  },
  {
   "cell_type": "markdown",
   "metadata": {},
   "source": [
    "# Exploratory Data Analysis\n",
    "We search for null values in the dataset"
   ]
  },
  {
   "cell_type": "code",
   "execution_count": 5,
   "metadata": {},
   "outputs": [
    {
     "name": "stdout",
     "output_type": "stream",
     "text": [
      "<class 'pandas.core.frame.DataFrame'>\n",
      "Int64Index: 1048575 entries, 0 to 1048574\n",
      "Data columns (total 6 columns):\n",
      "Time             1048575 non-null int64\n",
      "ParentID         1048575 non-null int64\n",
      "TaskID           1048575 non-null int64\n",
      "JobType          1048575 non-null int64\n",
      "NrmlTaskCores    1048575 non-null float64\n",
      "NrmlTaskMem      1048575 non-null float64\n",
      "dtypes: float64(2), int64(4)\n",
      "memory usage: 56.0 MB\n"
     ]
    }
   ],
   "source": [
    "data_file.info()"
   ]
  },
  {
   "cell_type": "markdown",
   "metadata": {},
   "source": [
    "Visualise the probability distribuition of all 4 columns of the data"
   ]
  },
  {
   "cell_type": "code",
   "execution_count": 6,
   "metadata": {},
   "outputs": [
    {
     "data": {
      "text/plain": [
       "<matplotlib.axes._subplots.AxesSubplot at 0x7fa8616e0a20>"
      ]
     },
     "execution_count": 6,
     "metadata": {},
     "output_type": "execute_result"
    },
    {
     "data": {
      "image/png": "[encoded data removed]",
      "text/plain": [
       "<Figure size 432x288 with 4 Axes>"
      ]
     },
     "metadata": {
      "needs_background": "light"
     },
     "output_type": "display_data"
    }
   ],
   "source": [
    "fig = plt.figure()\n",
    "\n",
    "plt.subplot(2,2,1)\n",
    "sns.distplot(data_file[\"Time\"])\n",
    "\n",
    "plt.subplot(2,2,2)\n",
    "sns.distplot(data_file[\"JobType\"])\n",
    "\n",
    "plt.subplot(2,2,3)\n",
    "sns.distplot(data_file[\"NrmlTaskCores\"])\n",
    "\n",
    "plt.subplot(2,2,4)\n",
    "sns.distplot(data_file[\"NrmlTaskMem\"])"
   ]
  },
  {
   "cell_type": "markdown",
   "metadata": {},
   "source": [
    "As seen above the job type data is a little skewed since more data entries are found with respect to job 0 and less with respect to job 2. Similarly number of cores and amount of memory used per task tends to move towards 0"
   ]
  },
  {
   "cell_type": "markdown",
   "metadata": {},
   "source": [
    "# Approach 1\n",
    "We come across many job id's and parent id's, what we do is we group the data according to parent id's and then check how each parent is behaving while performing each task"
   ]
  },
  {
   "cell_type": "code",
   "execution_count": 7,
   "metadata": {},
   "outputs": [],
   "source": [
    "groups = data_file.groupby(\"TaskID\")"
   ]
  },
  {
   "cell_type": "markdown",
   "metadata": {},
   "source": [
    "The following code checks the number of data entries under each group of parents"
   ]
  },
  {
   "cell_type": "code",
   "execution_count": 9,
   "metadata": {},
   "outputs": [],
   "source": [
    "g_dict = groups.groups\n",
    "len_df = []\n",
    "keys = g_dict.keys()\n",
    "for i in range(len(list(keys))):\n",
    "    len_df.append(len(groups.get_group(list(keys)[i])))\n",
    "    "
   ]
  },
  {
   "cell_type": "markdown",
   "metadata": {},
   "source": [
    "We visualise the above data to get an estimate "
   ]
  },
  {
   "cell_type": "code",
   "execution_count": 20,
   "metadata": {},
   "outputs": [],
   "source": [
    "test_df1 = groups.get_group(list(keys)[3])\n",
    "test_df2 = groups.get_group(list(keys)[1])\n"
   ]
  },
  {
   "cell_type": "markdown",
   "metadata": {},
   "source": [
    "##### As we can see the number of data entries under each number are very skewed"
   ]
  },
  {
   "cell_type": "markdown",
   "metadata": {},
   "source": [
    "We group the data according to the task id since every task runs on an individual machine"
   ]
  },
  {
   "cell_type": "code",
   "execution_count": null,
   "metadata": {},
   "outputs": [],
   "source": [
    "\n",
    "#PLOT TEST DATA\n",
    "fig = plt.figure()\n",
    "plt.subplot(2,1,1)\n",
    "sns.lineplot(test_df[\"Time\"],test_df[\"NrmlTaskCores\"])\n",
    "plt.subplot(2,1,2)\n",
    "sns.lineplot(test_df[\"Time\"],test_df[\"NrmlTaskMem\"])\n"
   ]
  },
  {
   "cell_type": "markdown",
   "metadata": {},
   "source": [
    "This is one group of the data that we have plotted, it clearly shows the variation in the use of Cores and Memory while executing the task"
   ]
  },
  {
   "cell_type": "code",
   "execution_count": null,
   "metadata": {},
   "outputs": [],
   "source": [
    "relevant_keys = []\n",
    "for i in range(len(list(keys))):\n",
    "    g_df = groups.get_group(list(keys)[i])\n",
    "    if(len(g_df)>1):\n",
    "        relevant_keys.append(list(keys)[i])"
   ]
  },
  {
   "cell_type": "markdown",
   "metadata": {},
   "source": [
    "We remove all entries consisting of a single entry since they provide us with no information about the trend of use of processor cores and cpu memory"
   ]
  },
  {
   "cell_type": "code",
   "execution_count": null,
   "metadata": {},
   "outputs": [],
   "source": [
    "\n",
    "x_arr = np.arange(len(relevant_keys))\n",
    "y_arr = []\n",
    "for i in relevant_keys:\n",
    "    y_arr.append(len(groups.get_group(i)))\n"
   ]
  },
  {
   "cell_type": "code",
   "execution_count": 17,
   "metadata": {},
   "outputs": [],
   "source": [
    "test_df1 = test_df1.set_index(\"Time\")\n",
    "test_df2 = test_df2.set_index(\"Time\")"
   ]
  },
  {
   "cell_type": "code",
   "execution_count": 23,
   "metadata": {},
   "outputs": [],
   "source": [
    "res = test_df1.merge(test_df2,on=\"Time\",how=\"inner\")"
   ]
  },
  {
   "cell_type": "code",
   "execution_count": 26,
   "metadata": {
    "scrolled": true
   },
   "outputs": [],
   "source": [
    "### MODIFIED K-MEANS ALGORITHM DEFINITION ###\n",
    "# 1. Choose number of clusters\n",
    "# 2. Subtract the two groups where the timestamps are the same and square it\n",
    "# 3. Add the total error up, do this for all three custom centroids\n",
    "# 4. Find new centroids and repeat the entire process\n",
    "test_result_df = pd.DataFrame()\n",
    "test_result_df[\"NrmlTaskCores_diff\"] = res[\"NrmlTaskCores_x\"] - res[\"NrmlTaskCores_y\"]\n",
    "test_result_df[\"Time\"] = res[\"Time\"]"
   ]
  },
  {
   "cell_type": "code",
   "execution_count": 28,
   "metadata": {},
   "outputs": [
    {
     "data": {
      "text/plain": [
       "<matplotlib.axes._subplots.AxesSubplot at 0x7fa856ea5b70>"
      ]
     },
     "execution_count": 28,
     "metadata": {},
     "output_type": "execute_result"
    },
    {
     "data": {
      "image/png": "[encoded data removed]",
      "text/plain": [
       "<Figure size 432x288 with 1 Axes>"
      ]
     },
     "metadata": {
      "needs_background": "light"
     },
     "output_type": "display_data"
    }
   ],
   "source": [
    "sns.lineplot(\"Time\",\"NrmlTaskCores_diff\",data=test_result_df)"
   ]
  },
  {
   "cell_type": "code",
   "execution_count": 29,
   "metadata": {},
   "outputs": [],
   "source": [
    "##Problem: What to do after on iteration?\n",
    "##We can have a tuple of cluster labels and time series groups \n",
    "##How to find a new centroid?\n",
    "##Take an average of all values in a row of the time series\n"
   ]
  },
  {
   "cell_type": "code",
   "execution_count": null,
   "metadata": {},
   "outputs": [],
   "source": []
  },
  {
   "cell_type": "code",
   "execution_count": null,
   "metadata": {},
   "outputs": [],
   "source": []
  },
  {
   "cell_type": "code",
   "execution_count": null,
   "metadata": {},
   "outputs": [],
   "source": []
  },
  {
   "cell_type": "code",
   "execution_count": null,
   "metadata": {},
   "outputs": [],
   "source": []
  },
  {
   "cell_type": "code",
   "execution_count": null,
   "metadata": {},
   "outputs": [],
   "source": []
  },
  {
   "cell_type": "code",
   "execution_count": null,
   "metadata": {},
   "outputs": [],
   "source": [
    "data_cluster = pd.DataFrame()\n",
    "data_cluster[\"Indices\"] = req_df.index.values\n",
    "data_cluster[\"Labels\"] = classifier.labels_\n"
   ]
  },
  {
   "cell_type": "code",
   "execution_count": null,
   "metadata": {
    "scrolled": true
   },
   "outputs": [],
   "source": [
    "fig = plt.figure()\n",
    "plt.subplot(2,1,1)\n",
    "sns.lineplot(req_df[\"Time\"],req_df[\"NrmlTaskCores\"])\n",
    "plt.subplot(2,1,2)\n",
    "sns.lineplot(req_df[\"Time\"],req_df[\"NrmlTaskMem\"])"
   ]
  },
  {
   "cell_type": "code",
   "execution_count": null,
   "metadata": {},
   "outputs": [],
   "source": [
    "#Use the custom fit algorithm\n",
    "groups.get_group(list(relevant_keys)[0])\n",
    "    \n",
    "\n",
    "\n",
    "\n",
    "\n"
   ]
  },
  {
   "cell_type": "code",
   "execution_count": null,
   "metadata": {},
   "outputs": [],
   "source": []
  }
 ],
 "metadata": {
  "kernelspec": {
   "display_name": "Python 3",
   "language": "python",
   "name": "python3"
  },
  "language_info": {
   "codemirror_mode": {
    "name": "ipython",
    "version": 3
   },
   "file_extension": ".py",
   "mimetype": "text/x-python",
   "name": "python",
   "nbconvert_exporter": "python",
   "pygments_lexer": "ipython3",
   "version": "3.5.2"
  }
 },
 "nbformat": 4,
 "nbformat_minor": 2
}
